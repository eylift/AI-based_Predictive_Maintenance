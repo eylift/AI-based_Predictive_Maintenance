{
  "cells": [
    {
      "cell_type": "markdown",
      "id": "748034ba",
      "metadata": {
        "id": "748034ba"
      },
      "source": [
        "# Analyse und Visualisierung eines Entscheidungsbaums für Predictive Maintenance\n",
        "In diesem Notebook werden wir einen Entscheidungsbaum aus einem Random Forest-Modell für die vorausschauende Wartung (Predictive Maintenance) visualisieren und interpretieren. Wir verwenden einen Datensatz eines Industrieroboters, der verschiedene Sensorwerte und Betriebsdaten enthält."
      ]
    },
    {
      "cell_type": "markdown",
      "id": "d32f4ba4",
      "metadata": {
        "id": "d32f4ba4"
      },
      "source": [
        "## 1. Importieren der notwendigen Bibliotheken\n",
        "Zunächst importieren wir die notwendigen Bibliotheken für Datenanalyse, Visualisierung und maschinelles Lernen."
      ]
    },
    {
      "cell_type": "code",
      "execution_count": 6,
      "id": "3e9382bb",
      "metadata": {
        "id": "3e9382bb"
      },
      "outputs": [],
      "source": [
        "import pandas as pd\n",
        "import numpy as np\n",
        "import matplotlib.pyplot as plt\n",
        "import seaborn as sns\n",
        "from sklearn.model_selection import train_test_split\n",
        "from sklearn.ensemble import RandomForestClassifier\n",
        "from sklearn.metrics import accuracy_score, confusion_matrix, classification_report\n",
        "from sklearn.tree import export_graphviz\n",
        "import pydotplus\n",
        "from IPython.display import Image\n",
        "from google.colab import drive\n"
      ]
    },
    {
      "cell_type": "markdown",
      "id": "810dd378",
      "metadata": {
        "id": "810dd378"
      },
      "source": [
        "## 2. Laden und Überprüfen der Daten\n",
        "Wir laden den Datensatz und überprüfen die ersten Zeilen sowie einige grundlegende Statistiken und mögliche fehlende Werte."
      ]
    },
    {
      "cell_type": "code",
      "execution_count": 10,
      "id": "c34f5e08",
      "metadata": {
        "colab": {
          "base_uri": "https://localhost:8080/"
        },
        "id": "c34f5e08",
        "outputId": "91a6f7b6-6448-4c6d-e0a3-32420a5c13a0"
      },
      "outputs": [
        {
          "output_type": "stream",
          "name": "stdout",
          "text": [
            "   stromverbrauch_kwh  motorlast_prozent  temperatur_celsius  druck_bar  \\\n",
            "0           10.496714          78.577874           52.027862   5.378494   \n",
            "1            9.861736          80.607845           57.003125   4.538917   \n",
            "2           10.647689          85.830512           60.026218   5.434803   \n",
            "3           11.523030          85.538021           60.234903   5.677819   \n",
            "4            9.765847          61.223306           57.749673   5.206717   \n",
            "\n",
            "   vibration_mm_s  betriebsstunden  wartung_notwendig  \n",
            "0        3.281485      2699.677718                  1  \n",
            "1        2.845187      2462.316841                  0  \n",
            "2        3.028836      2029.815185                  1  \n",
            "3        2.861317      1676.531611                  0  \n",
            "4        2.869651      2349.111657                  0  \n",
            "       stromverbrauch_kwh  motorlast_prozent  temperatur_celsius   druck_bar  \\\n",
            "count          200.000000         200.000000          200.000000  200.000000   \n",
            "mean             9.959229          75.858682           59.571725    5.004483   \n",
            "std              0.931004           9.870038            4.970210    0.509787   \n",
            "min              7.380255          42.587327           47.641777    3.651557   \n",
            "25%              9.294872          68.941625           56.030608    4.646765   \n",
            "50%              9.995808          75.788393           59.612000    5.011131   \n",
            "75%             10.500852          81.872311           62.860441    5.342589   \n",
            "max             12.720169         113.527315           75.394404    6.316191   \n",
            "\n",
            "       vibration_mm_s  betriebsstunden  wartung_notwendig  \n",
            "count      200.000000       200.000000         200.000000  \n",
            "mean         3.038475      2066.816508           0.540000  \n",
            "std          0.286780       515.160958           0.499648  \n",
            "min          2.272836       551.872311           0.000000  \n",
            "25%          2.840730      1747.936880           0.000000  \n",
            "50%          3.039161      2098.877597           1.000000  \n",
            "75%          3.215495      2436.732891           1.000000  \n",
            "max          3.758080      3219.876203           1.000000  \n",
            "stromverbrauch_kwh    0\n",
            "motorlast_prozent     0\n",
            "temperatur_celsius    0\n",
            "druck_bar             0\n",
            "vibration_mm_s        0\n",
            "betriebsstunden       0\n",
            "wartung_notwendig     0\n",
            "dtype: int64\n"
          ]
        }
      ],
      "source": [
        "# drive.mount('/content/drive')\n",
        "\n",
        "file_path = 'https://raw.githubusercontent.com/eylift/AI-based_Predictive_Maintenance/main/industrieroboter_wartung_data.csv'\n",
        "df = pd.read_csv(file_path)\n",
        "\n",
        "# Anzeigen der ersten Zeilen der Daten\n",
        "print(df.head())\n",
        "\n",
        "# Grundlegende Statistiken\n",
        "print(df.describe())\n",
        "\n",
        "# Überprüfung auf fehlende Werte\n",
        "print(df.isnull().sum())"
      ]
    },
    {
      "cell_type": "markdown",
      "id": "60396483",
      "metadata": {
        "id": "60396483"
      },
      "source": [
        "## 3. Datenvorbereitung\n",
        "Wir definieren die Features und die Zielvariable und teilen die Daten in Trainings- und Testsets auf."
      ]
    },
    {
      "cell_type": "code",
      "execution_count": null,
      "id": "530c5881",
      "metadata": {
        "id": "530c5881"
      },
      "outputs": [],
      "source": [
        "X = df[['stromverbrauch_kwh', 'motorlast_prozent', 'temperatur_celsius', 'druck_bar', 'vibration_mm_s', 'betriebsstunden']]\n",
        "y = df['wartung_notwendig']\n",
        "\n",
        "# Aufteilen der Daten in Trainings- und Testset\n",
        "X_train, X_test, y_train, y_test = train_test_split(X, y, test_size=0.2, random_state=42)"
      ]
    },
    {
      "cell_type": "markdown",
      "id": "8b5bb0e6",
      "metadata": {
        "id": "8b5bb0e6"
      },
      "source": [
        "## 4. Training des Random Forest Modells\n",
        "Wir initialisieren und trainieren ein Random Forest Modell mit den Trainingsdaten."
      ]
    },
    {
      "cell_type": "code",
      "execution_count": null,
      "id": "704972c0",
      "metadata": {
        "id": "704972c0"
      },
      "outputs": [],
      "source": [
        "model = RandomForestClassifier(n_estimators=100, random_state=42)\n",
        "model.fit(X_train, y_train)"
      ]
    },
    {
      "cell_type": "markdown",
      "id": "23421718",
      "metadata": {
        "id": "23421718"
      },
      "source": [
        "## 5. Modellbewertung\n",
        "Wir treffen Vorhersagen mit dem Testset und bewerten die Modellgenauigkeit, die Konfusionsmatrix und den Klassifikationsbericht."
      ]
    },
    {
      "cell_type": "code",
      "execution_count": null,
      "id": "c01fa854",
      "metadata": {
        "id": "c01fa854"
      },
      "outputs": [],
      "source": [
        "y_pred = model.predict(X_test)\n",
        "\n",
        "# Berechnung der Genauigkeit\n",
        "accuracy = accuracy_score(y_test, y_pred)\n",
        "print('Accuracy:', accuracy)\n",
        "\n",
        "# Konfusionsmatrix\n",
        "conf_matrix = confusion_matrix(y_test, y_pred)\n",
        "print('Confusion Matrix:\\n', conf_matrix)\n",
        "\n",
        "# Detaillierter Klassifikationsbericht\n",
        "class_report = classification_report(y_test, y_pred)\n",
        "print('Classification Report:\\n', class_report)"
      ]
    },
    {
      "cell_type": "markdown",
      "id": "f2f686c3",
      "metadata": {
        "id": "f2f686c3"
      },
      "source": [
        "## 6. Visualisierung der Konfusionsmatrix\n",
        "Wir visualisieren die Konfusionsmatrix, um die Modellleistung besser zu verstehen."
      ]
    },
    {
      "cell_type": "code",
      "execution_count": null,
      "id": "19206e5f",
      "metadata": {
        "id": "19206e5f"
      },
      "outputs": [],
      "source": [
        "plt.figure(figsize=(8, 6))\n",
        "sns.heatmap(conf_matrix, annot=True, fmt='d', cmap='Blues')\n",
        "plt.title('Confusion Matrix')\n",
        "plt.xlabel('Predicted')\n",
        "plt.ylabel('Actual')\n",
        "plt.show()"
      ]
    },
    {
      "cell_type": "markdown",
      "id": "ca3d8477",
      "metadata": {
        "id": "ca3d8477"
      },
      "source": [
        "## 7. Feature-Importances\n",
        "Wir plotten die Wichtigkeit der einzelnen Features, um zu verstehen, welche Merkmale das Modell als am wichtigsten erachtet."
      ]
    },
    {
      "cell_type": "code",
      "execution_count": null,
      "id": "d6f831d8",
      "metadata": {
        "id": "d6f831d8"
      },
      "outputs": [],
      "source": [
        "feature_importances = pd.Series(model.feature_importances_, index=X.columns)\n",
        "feature_importances.sort_values().plot(kind='barh')\n",
        "plt.title('Feature Importances')\n",
        "plt.xlabel('Importance')\n",
        "plt.ylabel('Features')\n",
        "plt.show()"
      ]
    },
    {
      "cell_type": "markdown",
      "id": "0ec920a3",
      "metadata": {
        "id": "0ec920a3"
      },
      "source": [
        "## 8. Visualisierung eines Entscheidungsbaums\n",
        "Wir wählen einen Entscheidungsbaum aus dem Random Forest und visualisieren ihn."
      ]
    },
    {
      "cell_type": "code",
      "execution_count": null,
      "id": "172da695",
      "metadata": {
        "id": "172da695"
      },
      "outputs": [],
      "source": [
        "estimator = model.estimators_[0]\n",
        "\n",
        "# Exportieren des Entscheidungsbaums in das DOT-Format\n",
        "dot_data = export_graphviz(estimator, out_file=None,\n",
        "                           feature_names=X.columns,\n",
        "                           class_names=['No Maintenance', 'Maintenance'],\n",
        "                           filled=True, rounded=True,\n",
        "                           special_characters=True)\n",
        "\n",
        "# Erstellen eines Graphen aus dem DOT-Daten\n",
        "graph = pydotplus.graph_from_dot_data(dot_data)\n",
        "\n",
        "# Speichern des Entscheidungsbaums als PNG-Datei\n",
        "graph.write_png('decision_tree.png')\n",
        "\n",
        "# Anzeigen des gespeicherten Entscheidungsbaums\n",
        "Image(filename='decision_tree.png')"
      ]
    },
    {
      "cell_type": "markdown",
      "id": "b02fd404",
      "metadata": {
        "id": "b02fd404"
      },
      "source": [
        "## Interpretation des Entscheidungsbaums\n",
        "Der Entscheidungsbaum ist ein grafisches Modell, das zeigt, wie Entscheidungen basierend auf den Eingabedaten getroffen werden. Jeder Knoten stellt eine Entscheidung basierend auf einem Merkmal und einem Schwellenwert dar, die zu zwei oder mehr Verzweigungen führt. Die Blätter am Ende der Zweige repräsentieren die endgültigen Entscheidungen oder Klassifizierungen.\n",
        "\n",
        "- **Merkmal und Schwellenwert**: Jeder Knoten zeigt das Merkmal und den Schwellenwert, der verwendet wird, um die Daten zu teilen.\n",
        "- **Gini-Index**: Ein Maß für die Unreinheit oder Unordnung des Knotens. Ein niedrigerer Wert bedeutet eine reinere Teilung.\n",
        "- **Anzahl der Beispiele**: Die Anzahl der Datenpunkte, die zu diesem Knoten gehören.\n",
        "- **Verteilung der Klassen**: Die Anzahl der Datenpunkte in den verschiedenen Klassen.\n",
        "- **Vorhersage**: Die häufigste Klasse, die als Vorhersage verwendet wird.\n",
        "\n",
        "Durch das Verständnis der Struktur und der Entscheidungen des Entscheidungsbaums können wir die Entscheidungsfindung des Modells besser interpretieren und nachvollziehen."
      ]
    }
  ],
  "metadata": {
    "colab": {
      "provenance": []
    },
    "language_info": {
      "name": "python"
    },
    "kernelspec": {
      "name": "python3",
      "display_name": "Python 3"
    }
  },
  "nbformat": 4,
  "nbformat_minor": 5
}